{
 "cells": [
  {
   "cell_type": "markdown",
   "metadata": {},
   "source": [
    "# 作业二：关联规则挖掘"
   ]
  },
  {
   "cell_type": "markdown",
   "metadata": {},
   "source": [
    "## 一、问题描述"
   ]
  },
  {
   "cell_type": "markdown",
   "metadata": {},
   "source": [
    "本作业选择数据集2：Wine Reviews作为对象，进行关联规则挖掘，主要任务包含：\n",
    "    1.对数据集进行处理，转换成适合关联规则挖掘的形式；\n",
    "    2.找出频繁项集；\n",
    "    3.导出关联规则，计算其支持度和置信度;\n",
    "    4.对规则进行评价，可使用Lift及其它指标, 要求至少2种；\n",
    "    5.对挖掘结果进行可视化展示。"
   ]
  },
  {
   "cell_type": "markdown",
   "metadata": {},
   "source": [
    "## 二、数据集描述"
   ]
  },
  {
   "cell_type": "code",
   "execution_count": 83,
   "metadata": {},
   "outputs": [
    {
     "data": {
      "text/html": [
       "<div>\n",
       "<style scoped>\n",
       "    .dataframe tbody tr th:only-of-type {\n",
       "        vertical-align: middle;\n",
       "    }\n",
       "\n",
       "    .dataframe tbody tr th {\n",
       "        vertical-align: top;\n",
       "    }\n",
       "\n",
       "    .dataframe thead th {\n",
       "        text-align: right;\n",
       "    }\n",
       "</style>\n",
       "<table border=\"1\" class=\"dataframe\">\n",
       "  <thead>\n",
       "    <tr style=\"text-align: right;\">\n",
       "      <th></th>\n",
       "      <th>id</th>\n",
       "      <th>country</th>\n",
       "      <th>description</th>\n",
       "      <th>designation</th>\n",
       "      <th>points</th>\n",
       "      <th>price</th>\n",
       "      <th>province</th>\n",
       "      <th>region_1</th>\n",
       "      <th>region_2</th>\n",
       "      <th>variety</th>\n",
       "      <th>winery</th>\n",
       "    </tr>\n",
       "  </thead>\n",
       "  <tbody>\n",
       "    <tr>\n",
       "      <th>0</th>\n",
       "      <td>0</td>\n",
       "      <td>US</td>\n",
       "      <td>This tremendous 100% varietal wine hails from ...</td>\n",
       "      <td>Martha's Vineyard</td>\n",
       "      <td>96</td>\n",
       "      <td>235.0</td>\n",
       "      <td>California</td>\n",
       "      <td>Napa Valley</td>\n",
       "      <td>Napa</td>\n",
       "      <td>Cabernet Sauvignon</td>\n",
       "      <td>Heitz</td>\n",
       "    </tr>\n",
       "    <tr>\n",
       "      <th>1</th>\n",
       "      <td>1</td>\n",
       "      <td>Spain</td>\n",
       "      <td>Ripe aromas of fig, blackberry and cassis are ...</td>\n",
       "      <td>Carodorum Selección Especial Reserva</td>\n",
       "      <td>96</td>\n",
       "      <td>110.0</td>\n",
       "      <td>Northern Spain</td>\n",
       "      <td>Toro</td>\n",
       "      <td>NaN</td>\n",
       "      <td>Tinta de Toro</td>\n",
       "      <td>Bodega Carmen Rodríguez</td>\n",
       "    </tr>\n",
       "    <tr>\n",
       "      <th>2</th>\n",
       "      <td>2</td>\n",
       "      <td>US</td>\n",
       "      <td>Mac Watson honors the memory of a wine once ma...</td>\n",
       "      <td>Special Selected Late Harvest</td>\n",
       "      <td>96</td>\n",
       "      <td>90.0</td>\n",
       "      <td>California</td>\n",
       "      <td>Knights Valley</td>\n",
       "      <td>Sonoma</td>\n",
       "      <td>Sauvignon Blanc</td>\n",
       "      <td>Macauley</td>\n",
       "    </tr>\n",
       "    <tr>\n",
       "      <th>3</th>\n",
       "      <td>3</td>\n",
       "      <td>US</td>\n",
       "      <td>This spent 20 months in 30% new French oak, an...</td>\n",
       "      <td>Reserve</td>\n",
       "      <td>96</td>\n",
       "      <td>65.0</td>\n",
       "      <td>Oregon</td>\n",
       "      <td>Willamette Valley</td>\n",
       "      <td>Willamette Valley</td>\n",
       "      <td>Pinot Noir</td>\n",
       "      <td>Ponzi</td>\n",
       "    </tr>\n",
       "    <tr>\n",
       "      <th>4</th>\n",
       "      <td>4</td>\n",
       "      <td>France</td>\n",
       "      <td>This is the top wine from La Bégude, named aft...</td>\n",
       "      <td>La Brûlade</td>\n",
       "      <td>95</td>\n",
       "      <td>66.0</td>\n",
       "      <td>Provence</td>\n",
       "      <td>Bandol</td>\n",
       "      <td>NaN</td>\n",
       "      <td>Provence red blend</td>\n",
       "      <td>Domaine de la Bégude</td>\n",
       "    </tr>\n",
       "  </tbody>\n",
       "</table>\n",
       "</div>"
      ],
      "text/plain": [
       "   id country                                        description  \\\n",
       "0   0      US  This tremendous 100% varietal wine hails from ...   \n",
       "1   1   Spain  Ripe aromas of fig, blackberry and cassis are ...   \n",
       "2   2      US  Mac Watson honors the memory of a wine once ma...   \n",
       "3   3      US  This spent 20 months in 30% new French oak, an...   \n",
       "4   4  France  This is the top wine from La Bégude, named aft...   \n",
       "\n",
       "                            designation  points  price        province  \\\n",
       "0                     Martha's Vineyard      96  235.0      California   \n",
       "1  Carodorum Selección Especial Reserva      96  110.0  Northern Spain   \n",
       "2         Special Selected Late Harvest      96   90.0      California   \n",
       "3                               Reserve      96   65.0          Oregon   \n",
       "4                            La Brûlade      95   66.0        Provence   \n",
       "\n",
       "            region_1           region_2             variety  \\\n",
       "0        Napa Valley               Napa  Cabernet Sauvignon   \n",
       "1               Toro                NaN       Tinta de Toro   \n",
       "2     Knights Valley             Sonoma     Sauvignon Blanc   \n",
       "3  Willamette Valley  Willamette Valley          Pinot Noir   \n",
       "4             Bandol                NaN  Provence red blend   \n",
       "\n",
       "                    winery  \n",
       "0                    Heitz  \n",
       "1  Bodega Carmen Rodríguez  \n",
       "2                 Macauley  \n",
       "3                    Ponzi  \n",
       "4     Domaine de la Bégude  "
      ]
     },
     "execution_count": 83,
     "metadata": {},
     "output_type": "execute_result"
    }
   ],
   "source": [
    "import pandas as pd\n",
    "import numpy as np\n",
    "import os\n",
    "import warnings\n",
    "warnings.filterwarnings('ignore')\n",
    "#数据集读取\n",
    "wine_datas = ['data/d2/winemag-data_first150k.csv','data/d2/winemag-data-130k-v2.csv']\n",
    "row_data = pd.read_csv(wine_datas[0])\n",
    "row_data.rename(columns={'Unnamed: 0':'id'}, inplace = True)\n",
    "#数据初步查看\n",
    "row_data.head(5)"
   ]
  },
  {
   "cell_type": "code",
   "execution_count": 84,
   "metadata": {},
   "outputs": [
    {
     "name": "stdout",
     "output_type": "stream",
     "text": [
      "<class 'pandas.core.frame.DataFrame'>\n",
      "RangeIndex: 150930 entries, 0 to 150929\n",
      "Data columns (total 11 columns):\n",
      "id             150930 non-null int64\n",
      "country        150925 non-null object\n",
      "description    150930 non-null object\n",
      "designation    105195 non-null object\n",
      "points         150930 non-null int64\n",
      "price          137235 non-null float64\n",
      "province       150925 non-null object\n",
      "region_1       125870 non-null object\n",
      "region_2       60953 non-null object\n",
      "variety        150930 non-null object\n",
      "winery         150930 non-null object\n",
      "dtypes: float64(1), int64(2), object(8)\n",
      "memory usage: 12.7+ MB\n"
     ]
    }
   ],
   "source": [
    "row_data.info()"
   ]
  },
  {
   "cell_type": "markdown",
   "metadata": {},
   "source": [
    "本数据集共11个属性，其中一个id属性，两个数值属性。共150930条数据"
   ]
  },
  {
   "cell_type": "markdown",
   "metadata": {},
   "source": [
    "## 三、关联规则挖掘 "
   ]
  },
  {
   "cell_type": "markdown",
   "metadata": {},
   "source": [
    "### 3.1 将数据集转化成适合关联规则挖掘的形式 "
   ]
  },
  {
   "cell_type": "markdown",
   "metadata": {},
   "source": [
    "由于问题复杂度和机器性能的限制，只取数据集的标称属性和评分points属性，并且去除空数据，8属性的列名分别为：country，designation，points，province，region_1，region_2，variety，winery"
   ]
  },
  {
   "cell_type": "code",
   "execution_count": 85,
   "metadata": {},
   "outputs": [
    {
     "data": {
      "text/html": [
       "<div>\n",
       "<style scoped>\n",
       "    .dataframe tbody tr th:only-of-type {\n",
       "        vertical-align: middle;\n",
       "    }\n",
       "\n",
       "    .dataframe tbody tr th {\n",
       "        vertical-align: top;\n",
       "    }\n",
       "\n",
       "    .dataframe thead th {\n",
       "        text-align: right;\n",
       "    }\n",
       "</style>\n",
       "<table border=\"1\" class=\"dataframe\">\n",
       "  <thead>\n",
       "    <tr style=\"text-align: right;\">\n",
       "      <th></th>\n",
       "      <th>country</th>\n",
       "      <th>designation</th>\n",
       "      <th>points</th>\n",
       "      <th>province</th>\n",
       "      <th>region_1</th>\n",
       "      <th>region_2</th>\n",
       "      <th>variety</th>\n",
       "      <th>winery</th>\n",
       "    </tr>\n",
       "  </thead>\n",
       "  <tbody>\n",
       "    <tr>\n",
       "      <th>0</th>\n",
       "      <td>US</td>\n",
       "      <td>Martha's Vineyard</td>\n",
       "      <td>96</td>\n",
       "      <td>California</td>\n",
       "      <td>Napa Valley</td>\n",
       "      <td>Napa</td>\n",
       "      <td>Cabernet Sauvignon</td>\n",
       "      <td>Heitz</td>\n",
       "    </tr>\n",
       "    <tr>\n",
       "      <th>1</th>\n",
       "      <td>Spain</td>\n",
       "      <td>Carodorum Selección Especial Reserva</td>\n",
       "      <td>96</td>\n",
       "      <td>Northern Spain</td>\n",
       "      <td>Toro</td>\n",
       "      <td>NaN</td>\n",
       "      <td>Tinta de Toro</td>\n",
       "      <td>Bodega Carmen Rodríguez</td>\n",
       "    </tr>\n",
       "    <tr>\n",
       "      <th>2</th>\n",
       "      <td>US</td>\n",
       "      <td>Special Selected Late Harvest</td>\n",
       "      <td>96</td>\n",
       "      <td>California</td>\n",
       "      <td>Knights Valley</td>\n",
       "      <td>Sonoma</td>\n",
       "      <td>Sauvignon Blanc</td>\n",
       "      <td>Macauley</td>\n",
       "    </tr>\n",
       "    <tr>\n",
       "      <th>3</th>\n",
       "      <td>US</td>\n",
       "      <td>Reserve</td>\n",
       "      <td>96</td>\n",
       "      <td>Oregon</td>\n",
       "      <td>Willamette Valley</td>\n",
       "      <td>Willamette Valley</td>\n",
       "      <td>Pinot Noir</td>\n",
       "      <td>Ponzi</td>\n",
       "    </tr>\n",
       "    <tr>\n",
       "      <th>4</th>\n",
       "      <td>France</td>\n",
       "      <td>La Brûlade</td>\n",
       "      <td>95</td>\n",
       "      <td>Provence</td>\n",
       "      <td>Bandol</td>\n",
       "      <td>NaN</td>\n",
       "      <td>Provence red blend</td>\n",
       "      <td>Domaine de la Bégude</td>\n",
       "    </tr>\n",
       "  </tbody>\n",
       "</table>\n",
       "</div>"
      ],
      "text/plain": [
       "  country                           designation  points        province  \\\n",
       "0      US                     Martha's Vineyard      96      California   \n",
       "1   Spain  Carodorum Selección Especial Reserva      96  Northern Spain   \n",
       "2      US         Special Selected Late Harvest      96      California   \n",
       "3      US                               Reserve      96          Oregon   \n",
       "4  France                            La Brûlade      95        Provence   \n",
       "\n",
       "            region_1           region_2             variety  \\\n",
       "0        Napa Valley               Napa  Cabernet Sauvignon   \n",
       "1               Toro                NaN       Tinta de Toro   \n",
       "2     Knights Valley             Sonoma     Sauvignon Blanc   \n",
       "3  Willamette Valley  Willamette Valley          Pinot Noir   \n",
       "4             Bandol                NaN  Provence red blend   \n",
       "\n",
       "                    winery  \n",
       "0                    Heitz  \n",
       "1  Bodega Carmen Rodríguez  \n",
       "2                 Macauley  \n",
       "3                    Ponzi  \n",
       "4     Domaine de la Bégude  "
      ]
     },
     "execution_count": 85,
     "metadata": {},
     "output_type": "execute_result"
    }
   ],
   "source": [
    "data = row_data.iloc[:,[1,3,4,6,7,8,9,10]]\n",
    "data.head(5)"
   ]
  },
  {
   "cell_type": "code",
   "execution_count": 86,
   "metadata": {},
   "outputs": [],
   "source": [
    "data = data.dropna(axis=0)"
   ]
  },
  {
   "cell_type": "code",
   "execution_count": 87,
   "metadata": {},
   "outputs": [
    {
     "name": "stdout",
     "output_type": "stream",
     "text": [
      "<class 'pandas.core.frame.DataFrame'>\n",
      "Int64Index: 39427 entries, 0 to 150916\n",
      "Data columns (total 8 columns):\n",
      "country        39427 non-null object\n",
      "designation    39427 non-null object\n",
      "points         39427 non-null int64\n",
      "province       39427 non-null object\n",
      "region_1       39427 non-null object\n",
      "region_2       39427 non-null object\n",
      "variety        39427 non-null object\n",
      "winery         39427 non-null object\n",
      "dtypes: int64(1), object(7)\n",
      "memory usage: 2.7+ MB\n"
     ]
    }
   ],
   "source": [
    "data.info()"
   ]
  },
  {
   "cell_type": "markdown",
   "metadata": {},
   "source": [
    "由于我们要对多个属性进行关联规则挖掘，属于多维关联分析问题，因此需要将不同属性的值转化为可生成频繁项集的形式。首先，将每个属性名：属性值的组合用一个二元组表示，\n",
    "作为一个单项。"
   ]
  },
  {
   "cell_type": "code",
   "execution_count": 88,
   "metadata": {},
   "outputs": [
    {
     "name": "stdout",
     "output_type": "stream",
     "text": [
      "Dealing with feature: country\n",
      "Dealing with feature: designation\n",
      "Dealing with feature: points\n",
      "Dealing with feature: province\n",
      "Dealing with feature: region_1\n",
      "Dealing with feature: region_2\n",
      "Dealing with feature: variety\n",
      "Dealing with feature: winery\n",
      "data_map长度： 39427\n",
      "首条数据： [('country', 'US'), ('designation', \"Martha's Vineyard\"), ('points', '96'), ('province', 'California'), ('region_1', 'Napa Valley'), ('region_2', 'Napa'), ('variety', 'Cabernet Sauvignon'), ('winery', 'Heitz')]\n"
     ]
    }
   ],
   "source": [
    "columns = []\n",
    "for feature_name in data.columns:\n",
    "    print(\"Dealing with feature: {}\".format(feature_name))\n",
    "    feature_col = data.loc[:,feature_name]\n",
    "    columns.append(feature_col)\n",
    "rows = list(zip(*columns))\n",
    "#将数据转为数据字典存储\n",
    "data_map = []\n",
    "for data_line in rows:\n",
    "    temp = []\n",
    "    for i , value in enumerate(data_line):\n",
    "        temp.append((data.columns[i], str(value)))\n",
    "    data_map.append(temp)\n",
    "print('data_map长度：',len(data_map))\n",
    "print('首条数据：',data_map[0])"
   ]
  },
  {
   "cell_type": "markdown",
   "metadata": {},
   "source": [
    "### 3.2 找出频繁项集"
   ]
  },
  {
   "cell_type": "markdown",
   "metadata": {},
   "source": [
    "经过数据预处理，采用Apriori算法构建频繁项集。频繁项集（frequent item sets）是指支持度大于等于最小支持度(min_sup)的集合。其中支持度（support）是指某个集合在所有事务中出现的频率。将最小支持度定为0.05，最小置信度为0.5"
   ]
  },
  {
   "cell_type": "markdown",
   "metadata": {},
   "source": [
    "Apriori算法首先会生成所有单个（属性名，属性值）的项集列表，然后扫描全部数据集来查看哪些项集满足最小支持度要求，其中不满足最小支持度的集合会被去掉，接着对剩下的集合进行组合（组合中要求属性名相同的项仅有一个）以生成包含两个项的项集，接着重新扫描交易记录，去掉不满足最小支持度的项集，该过程重复进行直到所有项集都被过滤掉。算法具体实现如下，细节见注释。"
   ]
  },
  {
   "cell_type": "code",
   "execution_count": 120,
   "metadata": {},
   "outputs": [],
   "source": [
    "class Apriori(object):\n",
    "    \"\"\"\n",
    "    分为两个步骤：\n",
    "        1）找出所有频繁项集\n",
    "        2）由频繁项集产生强关联规则\n",
    "    \"\"\"\n",
    "    def __init__(self, min_support = 0.01, min_confidence = 0.5):\n",
    "        self.min_support = min_support         # 最小支持度\n",
    "        self.min_confidence = min_confidence   #  最小置信度\n",
    "\n",
    "    def apriori(self, dataset):\n",
    "        \"\"\"\n",
    "        Apriori算法实现\n",
    "        :param dataset: 数据集，类型为一个list，list中每个元素是一个dict，key为属性名，value为对应属性的取值\n",
    "        :return: 生成频繁项集\n",
    "        \"\"\"\n",
    "        C1 = self.create_C1(dataset)\n",
    "        dataset = [set(data) for data in dataset]\n",
    "        L1, support_data = self.scan_D(dataset, C1)\n",
    "        L = [L1]\n",
    "        k = 2\n",
    "        while len(L[k-2]) > 0:\n",
    "            Ck = self.apriori_gen(L[k-2], k)\n",
    "            Lk, support_k = self.scan_D(dataset, Ck)\n",
    "            support_data.update(support_k)\n",
    "            L.append(Lk)\n",
    "            k += 1\n",
    "        return L, support_data\n",
    "\n",
    "    def create_C1(self, dataset):\n",
    "        # 扫描dataset，构建全部可能的单元素候选项集合(list)\n",
    "        # 每个单元素候选项：（属性名，属性取值）\n",
    "        C1 = []\n",
    "        for data in dataset:\n",
    "            for item in data:\n",
    "                if [item] not in C1:\n",
    "                    C1.append([item])\n",
    "        C1.sort()\n",
    "        return [frozenset(item) for item in C1]\n",
    "\n",
    "    def scan_D(self, dataset, Ck):\n",
    "        # 过滤函数\n",
    "        # 根据待选项集Ck的情况，判断数据集D中Ck元素的出现频率\n",
    "        # 过滤掉低于最小支持度的项集\n",
    "        Ck_count = dict()\n",
    "        for data in dataset:\n",
    "            for cand in Ck:\n",
    "                if cand.issubset(data):\n",
    "                    if cand not in Ck_count:\n",
    "                        Ck_count[cand] = 1\n",
    "                    else:\n",
    "                        Ck_count[cand] += 1\n",
    "\n",
    "        num_items = float(len(dataset))\n",
    "        return_list = []\n",
    "        support_data = dict()\n",
    "        # 过滤非频繁项集\n",
    "        for key in Ck_count:\n",
    "            support  = Ck_count[key] / num_items\n",
    "            if support >= self.min_support:\n",
    "                return_list.insert(0, key)\n",
    "            support_data[key] = support\n",
    "        return return_list, support_data\n",
    "\n",
    "    def apriori_gen(self, Lk, k):\n",
    "        # 当待选项集不是单个元素时， 如k>=2的情况下，合并元素时容易出现重复\n",
    "        # 因此针对包含k个元素的频繁项集，对比每个频繁项集第k-2位是否一致\n",
    "        return_list = []\n",
    "        len_Lk = len(Lk)\n",
    "\n",
    "        for i in range(len_Lk):\n",
    "            for j in range(i+1, len_Lk):\n",
    "                # 第k-2个项相同时，将两个集合合并\n",
    "                L1 = list(Lk[i])[:k-2]\n",
    "                L2 = list(Lk[j])[:k-2]\n",
    "                L1.sort()\n",
    "                L2.sort()\n",
    "                if L1 == L2:\n",
    "                    return_list.append(Lk[i] | Lk[j])\n",
    "        return return_list\n",
    "\n",
    "    def generate_rules(self, L, support_data):\n",
    "        \"\"\"\n",
    "        产生强关联规则算法实现\n",
    "        基于Apriori算法，首先从一个频繁项集开始，接着创建一个规则列表，\n",
    "        其中规则右部只包含一个元素，然后对这些规则进行测试。\n",
    "        接下来合并所有的剩余规则列表来创建一个新的规则列表，\n",
    "        其中规则右部包含两个元素。这种方法称作分级法。\n",
    "        :param L: 频繁项集\n",
    "        :param support_data: 频繁项集对应的支持度\n",
    "        :return: 强关联规则列表\n",
    "        \"\"\"\n",
    "        big_rules_list = []\n",
    "        for i in range(1, len(L)):\n",
    "            for freq_set in L[i]:\n",
    "                H1 = [frozenset([item]) for item in freq_set]\n",
    "                # 只获取有两个或更多元素的集合\n",
    "                if i > 1:\n",
    "                    self.rules_from_conseq(freq_set, H1, support_data, big_rules_list)\n",
    "                else:\n",
    "                    self.cal_conf(freq_set, H1, support_data, big_rules_list)\n",
    "        return big_rules_list\n",
    "\n",
    "    def rules_from_conseq(self, freq_set, H, support_data, big_rules_list):\n",
    "        # H->出现在规则右部的元素列表\n",
    "        m = len(H[0])\n",
    "        if len(freq_set) > (m+1):\n",
    "            Hmp1 = self.apriori_gen(H, m+1)\n",
    "            Hmp1 = self.cal_conf(freq_set, Hmp1, support_data, big_rules_list)\n",
    "            if len(Hmp1) > 1:\n",
    "                self.rules_from_conseq(freq_set, Hmp1, support_data, big_rules_list)\n",
    "\n",
    "    def cal_conf(self, freq_set, H, support_data, big_rules_list):\n",
    "        # 评估生成的规则\n",
    "        prunedH = []\n",
    "        for conseq in H:\n",
    "            sup = support_data[freq_set]\n",
    "            conf = sup / support_data[freq_set - conseq]\n",
    "            lift = conf / support_data[freq_set - conseq]\n",
    "            if conf >= self.min_confidence:\n",
    "                big_rules_list.append((freq_set-conseq, conseq, sup, conf, lift))\n",
    "                prunedH.append(conseq)\n",
    "        return prunedH\n"
   ]
  },
  {
   "cell_type": "code",
   "execution_count": 121,
   "metadata": {},
   "outputs": [
    {
     "name": "stdout",
     "output_type": "stream",
     "text": [
      "频繁项集共有： 15352 条数据，输出前30条\n",
      "item\tsupport\n",
      "[('country', 'US')] \t 1.0\n",
      "[('province', 'California')] \t 0.7273949324067264\n",
      "[('province', 'California'), ('country', 'US')] \t 0.7273949324067264\n",
      "[('region_2', 'Central Coast')] \t 0.23336799655058715\n",
      "[('province', 'California'), ('region_2', 'Central Coast')] \t 0.23336799655058715\n",
      "[('country', 'US'), ('region_2', 'Central Coast')] \t 0.23336799655058715\n",
      "[('province', 'California'), ('country', 'US'), ('region_2', 'Central Coast')] \t 0.23336799655058715\n",
      "[('region_2', 'Sonoma')] \t 0.19851878154564132\n",
      "[('province', 'California'), ('region_2', 'Sonoma')] \t 0.19851878154564132\n",
      "[('country', 'US'), ('region_2', 'Sonoma')] \t 0.19851878154564132\n",
      "[('province', 'California'), ('country', 'US'), ('region_2', 'Sonoma')] \t 0.19851878154564132\n",
      "[('variety', 'Pinot Noir')] \t 0.19032642605321226\n",
      "[('country', 'US'), ('variety', 'Pinot Noir')] \t 0.19032642605321226\n",
      "[('province', 'Washington')] \t 0.15651710756588125\n",
      "[('country', 'US'), ('province', 'Washington')] \t 0.15651710756588125\n",
      "[('region_2', 'Columbia Valley')] \t 0.14796966545768128\n",
      "[('region_2', 'Columbia Valley'), ('province', 'Washington')] \t 0.14796966545768128\n",
      "[('country', 'US'), ('region_2', 'Columbia Valley')] \t 0.14796966545768128\n",
      "[('country', 'US'), ('region_2', 'Columbia Valley'), ('province', 'Washington')] \t 0.14796966545768128\n",
      "[('province', 'California'), ('variety', 'Pinot Noir')] \t 0.13896568341491872\n",
      "[('province', 'California'), ('variety', 'Pinot Noir'), ('country', 'US')] \t 0.13896568341491872\n",
      "[('region_2', 'Napa')] \t 0.1301392446800416\n",
      "[('province', 'California'), ('region_2', 'Napa')] \t 0.1301392446800416\n",
      "[('country', 'US'), ('region_2', 'Napa')] \t 0.1301392446800416\n",
      "[('province', 'California'), ('country', 'US'), ('region_2', 'Napa')] \t 0.1301392446800416\n",
      "[('points', '87')] \t 0.12554848200471758\n",
      "[('country', 'US'), ('points', '87')] \t 0.12554848200471758\n",
      "[('variety', 'Cabernet Sauvignon')] \t 0.1247875821137799\n",
      "[('country', 'US'), ('variety', 'Cabernet Sauvignon')] \t 0.1247875821137799\n",
      "[('variety', 'Chardonnay')] \t 0.12443249549800899\n"
     ]
    }
   ],
   "source": [
    "association = Apriori(0.05,0.5)\n",
    "freq_set , support_data = association.apriori(data_map)\n",
    "support_data_out = sorted(support_data.items(), key= lambda d:d[1],reverse=True)\n",
    "print('频繁项集共有：',len(support_data_out),'条数据，输出前30条')\n",
    "print('item\\tsupport')\n",
    "for key,value in support_data_out[:30]:\n",
    "    print(list(key),'\\t',value)"
   ]
  },
  {
   "cell_type": "markdown",
   "metadata": {},
   "source": [
    "### 3.3 导出关联规则并计算支持度、置信度、Lift指标"
   ]
  },
  {
   "cell_type": "code",
   "execution_count": 124,
   "metadata": {},
   "outputs": [
    {
     "name": "stdout",
     "output_type": "stream",
     "text": [
      "强关联规则：\n",
      "关联规则\t\t\t\t\t\t\t\t支持度，置信度，Lift\n",
      "(frozenset({('points', '84')}), frozenset({('country', 'US')}), 0.06503157734547392, 1.0, 15.37714508580343)\n",
      "(frozenset({('points', '85')}), frozenset({('country', 'US')}), 0.06807517690922464, 1.0, 14.689642324888228)\n",
      "(frozenset({('points', '92')}), frozenset({('country', 'US')}), 0.08326781139828036, 1.0, 12.00944258300335)\n",
      "(frozenset({('variety', 'Red Blend')}), frozenset({('country', 'US')}), 0.07515154589494509, 1.0, 13.306446169422882)\n",
      "(frozenset({('points', '93')}), frozenset({('country', 'US')}), 0.05803129834884724, 1.0, 17.23208041958042)\n",
      "(frozenset({('points', '87')}), frozenset({('country', 'US')}), 0.12554848200471758, 1.0, 7.965050505050505)\n",
      "(frozenset({('points', '88')}), frozenset({('country', 'US')}), 0.10546072488396277, 1.0, 9.482202982202981)\n",
      "(frozenset({('points', '89')}), frozenset({('country', 'US')}), 0.07591244578588277, 1.0, 13.173070497828267)\n",
      "(frozenset({('variety', 'Zinfandel')}), frozenset({('country', 'US')}), 0.07139777309965252, 1.0, 14.006039076376554)\n",
      "(frozenset({('region_1', 'Paso Robles')}), frozenset({('country', 'US')}), 0.05333908235473153, 1.0, 18.74797907750832)\n",
      "(frozenset({('region_1', 'Paso Robles')}), frozenset({('province', 'California')}), 0.05333908235473153, 1.0, 18.74797907750832)\n",
      "(frozenset({('region_1', 'Paso Robles')}), frozenset({('region_2', 'Central Coast')}), 0.05333908235473153, 1.0, 18.74797907750832)\n",
      "(frozenset({('points', '86')}), frozenset({('country', 'US')}), 0.08418089126740559, 1.0, 11.879180476047)\n",
      "(frozenset({('points', '91')}), frozenset({('country', 'US')}), 0.0756080858295077, 1.0, 13.226098624622608)\n",
      "(frozenset({('region_1', 'Columbia Valley (WA)')}), frozenset({('country', 'US')}), 0.0737058361021635, 1.0, 13.567446662078458)\n",
      "(frozenset({('region_1', 'Columbia Valley (WA)')}), frozenset({('province', 'Washington')}), 0.0737058361021635, 1.0, 13.567446662078458)\n",
      "(frozenset({('region_1', 'Columbia Valley (WA)')}), frozenset({('region_2', 'Columbia Valley')}), 0.0737058361021635, 1.0, 13.567446662078458)\n",
      "(frozenset({('points', '90')}), frozenset({('country', 'US')}), 0.11104065741750577, 1.0, 9.005710370031979)\n",
      "(frozenset({('region_1', 'Russian River Valley')}), frozenset({('country', 'US')}), 0.06756791031526618, 1.0, 14.799924924924927)\n",
      "(frozenset({('region_1', 'Russian River Valley')}), frozenset({('province', 'California')}), 0.06756791031526618, 1.0, 14.799924924924927)\n",
      "(frozenset({('region_1', 'Russian River Valley')}), frozenset({('region_2', 'Sonoma')}), 0.06756791031526618, 1.0, 14.799924924924927)\n",
      "(frozenset({('province', 'Washington')}), frozenset({('country', 'US')}), 0.15651710756588125, 1.0, 6.389077945227678)\n",
      "(frozenset({('region_2', 'Columbia Valley')}), frozenset({('country', 'US')}), 0.14796966545768128, 1.0, 6.758141926636956)\n",
      "(frozenset({('region_2', 'Columbia Valley')}), frozenset({('province', 'Washington')}), 0.14796966545768128, 1.0, 6.758141926636956)\n",
      "(frozenset({('variety', 'Syrah')}), frozenset({('country', 'US')}), 0.07101732315418369, 1.0, 14.081071428571427)\n",
      "(frozenset({('region_2', 'Central Coast')}), frozenset({('country', 'US')}), 0.23336799655058715, 1.0, 4.28507770894468)\n",
      "(frozenset({('region_2', 'Central Coast')}), frozenset({('province', 'California')}), 0.23336799655058715, 1.0, 4.28507770894468)\n",
      "(frozenset({('variety', 'Chardonnay')}), frozenset({('country', 'US')}), 0.12443249549800899, 1.0, 8.036485935589074)\n",
      "(frozenset({('province', 'Oregon')}), frozenset({('country', 'US')}), 0.0772820655895706, 1.0, 12.93961273383656)\n",
      "(frozenset({('region_2', 'Willamette Valley')}), frozenset({('country', 'US')}), 0.0606690846374312, 1.0, 16.482859531772576)\n",
      "(frozenset({('region_2', 'Willamette Valley')}), frozenset({('province', 'Oregon')}), 0.0606690846374312, 1.0, 16.482859531772576)\n",
      "(frozenset({('variety', 'Pinot Noir')}), frozenset({('country', 'US')}), 0.19032642605321226, 1.0, 5.254131130063966)\n",
      "(frozenset({('region_2', 'Sonoma')}), frozenset({('country', 'US')}), 0.19851878154564132, 1.0, 5.037306758655935)\n",
      "(frozenset({('region_2', 'Sonoma')}), frozenset({('province', 'California')}), 0.19851878154564132, 1.0, 5.037306758655935)\n",
      "(frozenset({('province', 'California')}), frozenset({('country', 'US')}), 0.7273949324067264, 1.0, 1.3747689947348234)\n",
      "(frozenset({('region_1', 'Napa Valley')}), frozenset({('country', 'US')}), 0.08945646384457352, 1.0, 11.178622058406576)\n",
      "(frozenset({('region_1', 'Napa Valley')}), frozenset({('province', 'California')}), 0.08945646384457352, 1.0, 11.178622058406576)\n",
      "(frozenset({('region_2', 'Napa')}), frozenset({('country', 'US')}), 0.1301392446800416, 1.0, 7.684077177938024)\n",
      "(frozenset({('region_2', 'Napa')}), frozenset({('province', 'California')}), 0.1301392446800416, 1.0, 7.684077177938024)\n",
      "(frozenset({('region_1', 'Napa Valley')}), frozenset({('region_2', 'Napa')}), 0.08945646384457352, 1.0, 11.178622058406576)\n",
      "(frozenset({('variety', 'Cabernet Sauvignon')}), frozenset({('country', 'US')}), 0.1247875821137799, 1.0, 8.013617886178862)\n",
      "(frozenset({('region_1', 'Paso Robles')}), frozenset({('province', 'California'), ('country', 'US')}), 0.05333908235473153, 1.0, 18.74797907750832)\n",
      "(frozenset({('region_1', 'Paso Robles')}), frozenset({('province', 'California'), ('region_2', 'Central Coast')}), 0.05333908235473153, 1.0, 18.74797907750832)\n",
      "(frozenset({('region_1', 'Paso Robles')}), frozenset({('country', 'US'), ('region_2', 'Central Coast')}), 0.05333908235473153, 1.0, 18.74797907750832)\n",
      "(frozenset({('region_1', 'Columbia Valley (WA)')}), frozenset({('region_2', 'Columbia Valley'), ('province', 'Washington')}), 0.0737058361021635, 1.0, 13.567446662078458)\n",
      "(frozenset({('region_1', 'Columbia Valley (WA)')}), frozenset({('country', 'US'), ('region_2', 'Columbia Valley')}), 0.0737058361021635, 1.0, 13.567446662078458)\n",
      "(frozenset({('region_1', 'Columbia Valley (WA)')}), frozenset({('country', 'US'), ('province', 'Washington')}), 0.0737058361021635, 1.0, 13.567446662078458)\n",
      "(frozenset({('region_1', 'Russian River Valley')}), frozenset({('province', 'California'), ('country', 'US')}), 0.06756791031526618, 1.0, 14.799924924924927)\n",
      "(frozenset({('region_1', 'Russian River Valley')}), frozenset({('province', 'California'), ('region_2', 'Sonoma')}), 0.06756791031526618, 1.0, 14.799924924924927)\n",
      "(frozenset({('region_1', 'Russian River Valley')}), frozenset({('country', 'US'), ('region_2', 'Sonoma')}), 0.06756791031526618, 1.0, 14.799924924924927)\n",
      "(frozenset({('region_2', 'Columbia Valley')}), frozenset({('country', 'US'), ('province', 'Washington')}), 0.14796966545768128, 1.0, 6.758141926636956)\n",
      "(frozenset({('region_2', 'Central Coast')}), frozenset({('province', 'California'), ('country', 'US')}), 0.23336799655058715, 1.0, 4.28507770894468)\n",
      "(frozenset({('region_2', 'Willamette Valley')}), frozenset({('country', 'US'), ('province', 'Oregon')}), 0.0606690846374312, 1.0, 16.482859531772576)\n",
      "(frozenset({('region_2', 'Sonoma')}), frozenset({('province', 'California'), ('country', 'US')}), 0.19851878154564132, 1.0, 5.037306758655935)\n",
      "(frozenset({('region_1', 'Napa Valley')}), frozenset({('province', 'California'), ('region_2', 'Napa')}), 0.08945646384457352, 1.0, 11.178622058406576)\n",
      "(frozenset({('region_1', 'Napa Valley')}), frozenset({('country', 'US'), ('region_2', 'Napa')}), 0.08945646384457352, 1.0, 11.178622058406576)\n",
      "(frozenset({('region_2', 'Napa')}), frozenset({('province', 'California'), ('country', 'US')}), 0.1301392446800416, 1.0, 7.684077177938024)\n",
      "(frozenset({('region_1', 'Napa Valley')}), frozenset({('province', 'California'), ('country', 'US')}), 0.08945646384457352, 1.0, 11.178622058406576)\n",
      "(frozenset({('country', 'US'), ('region_1', 'Paso Robles')}), frozenset({('province', 'California'), ('region_2', 'Central Coast')}), 0.05333908235473153, 1.0, 18.74797907750832)\n",
      "(frozenset({('region_1', 'Paso Robles'), ('region_2', 'Central Coast')}), frozenset({('province', 'California'), ('country', 'US')}), 0.05333908235473153, 1.0, 18.74797907750832)\n",
      "(frozenset({('province', 'California'), ('region_1', 'Paso Robles')}), frozenset({('country', 'US'), ('region_2', 'Central Coast')}), 0.05333908235473153, 1.0, 18.74797907750832)\n",
      "(frozenset({('region_1', 'Paso Robles')}), frozenset({('province', 'California'), ('country', 'US'), ('region_2', 'Central Coast')}), 0.05333908235473153, 1.0, 18.74797907750832)\n",
      "(frozenset({('region_2', 'Columbia Valley'), ('region_1', 'Columbia Valley (WA)')}), frozenset({('country', 'US'), ('province', 'Washington')}), 0.0737058361021635, 1.0, 13.567446662078458)\n",
      "(frozenset({('country', 'US'), ('region_1', 'Columbia Valley (WA)')}), frozenset({('region_2', 'Columbia Valley'), ('province', 'Washington')}), 0.0737058361021635, 1.0, 13.567446662078458)\n",
      "(frozenset({('province', 'Washington'), ('region_1', 'Columbia Valley (WA)')}), frozenset({('country', 'US'), ('region_2', 'Columbia Valley')}), 0.0737058361021635, 1.0, 13.567446662078458)\n",
      "(frozenset({('region_1', 'Columbia Valley (WA)')}), frozenset({('country', 'US'), ('region_2', 'Columbia Valley'), ('province', 'Washington')}), 0.0737058361021635, 1.0, 13.567446662078458)\n",
      "(frozenset({('region_1', 'Russian River Valley'), ('region_2', 'Sonoma')}), frozenset({('province', 'California'), ('country', 'US')}), 0.06756791031526618, 1.0, 14.799924924924927)\n",
      "(frozenset({('country', 'US'), ('region_1', 'Russian River Valley')}), frozenset({('province', 'California'), ('region_2', 'Sonoma')}), 0.06756791031526618, 1.0, 14.799924924924927)\n",
      "(frozenset({('province', 'California'), ('region_1', 'Russian River Valley')}), frozenset({('country', 'US'), ('region_2', 'Sonoma')}), 0.06756791031526618, 1.0, 14.799924924924927)\n",
      "(frozenset({('region_1', 'Russian River Valley')}), frozenset({('province', 'California'), ('region_2', 'Sonoma'), ('country', 'US')}), 0.06756791031526618, 1.0, 14.799924924924927)\n",
      "(frozenset({('variety', 'Pinot Noir'), ('region_2', 'Central Coast')}), frozenset({('province', 'California'), ('country', 'US')}), 0.059502371471326754, 1.0, 16.806052855924978)\n",
      "(frozenset({('variety', 'Pinot Noir'), ('region_2', 'Sonoma')}), frozenset({('province', 'California'), ('country', 'US')}), 0.05417607223476298, 1.0, 18.458333333333332)\n",
      "(frozenset({('country', 'US'), ('region_1', 'Napa Valley')}), frozenset({('province', 'California'), ('region_2', 'Napa')}), 0.08945646384457352, 1.0, 11.178622058406576)\n",
      "(frozenset({('region_1', 'Napa Valley'), ('region_2', 'Napa')}), frozenset({('province', 'California'), ('country', 'US')}), 0.08945646384457352, 1.0, 11.178622058406576)\n",
      "(frozenset({('province', 'California'), ('region_1', 'Napa Valley')}), frozenset({('country', 'US'), ('region_2', 'Napa')}), 0.08945646384457352, 1.0, 11.178622058406576)\n",
      "(frozenset({('region_1', 'Napa Valley')}), frozenset({('province', 'California'), ('country', 'US'), ('region_2', 'Napa')}), 0.08945646384457352, 1.0, 11.178622058406576)\n",
      "(frozenset({('variety', 'Cabernet Sauvignon'), ('region_2', 'Napa')}), frozenset({('province', 'California'), ('country', 'US')}), 0.05881756156948284, 1.0, 17.001724881414404)\n",
      "(frozenset({('variety', 'Zinfandel')}), frozenset({('province', 'California')}), 0.06967306668019378, 0.9758436944937834, 13.667704917515595)\n",
      "(frozenset({('variety', 'Zinfandel')}), frozenset({('province', 'California'), ('country', 'US')}), 0.06967306668019378, 0.9758436944937834, 13.667704917515595)\n",
      "(frozenset({('province', 'Washington')}), frozenset({('region_2', 'Columbia Valley')}), 0.14796966545768128, 0.9453897261383892, 6.040168648915617)\n",
      "(frozenset({('province', 'Washington')}), frozenset({('country', 'US'), ('region_2', 'Columbia Valley')}), 0.14796966545768128, 0.9453897261383892, 6.040168648915617)\n",
      "(frozenset({('points', '84')}), frozenset({('province', 'California')}), 0.05539351206026327, 0.8517940717628705, 13.098161024724918)\n",
      "(frozenset({('points', '84')}), frozenset({('province', 'California'), ('country', 'US')}), 0.05539351206026327, 0.8517940717628705, 13.098161024724918)\n",
      "(frozenset({('variety', 'Cabernet Sauvignon')}), frozenset({('province', 'California')}), 0.10307657189235803, 0.8260162601626017, 6.6193786767135965)\n",
      "(frozenset({('variety', 'Cabernet Sauvignon')}), frozenset({('province', 'California'), ('country', 'US')}), 0.10307657189235803, 0.8260162601626017, 6.6193786767135965)\n",
      "(frozenset({('variety', 'Chardonnay')}), frozenset({('province', 'California')}), 0.1014786821213889, 0.8155320016306563, 6.554011461127575)\n",
      "(frozenset({('variety', 'Chardonnay')}), frozenset({('province', 'California'), ('country', 'US')}), 0.1014786821213889, 0.8155320016306563, 6.554011461127575)\n",
      "(frozenset({('province', 'Oregon')}), frozenset({('region_2', 'Willamette Valley')}), 0.0606690846374312, 0.7850344601247129, 10.158041896730245)\n",
      "(frozenset({('province', 'Oregon')}), frozenset({('country', 'US'), ('region_2', 'Willamette Valley')}), 0.0606690846374312, 0.7850344601247129, 10.158041896730245)\n",
      "(frozenset({('points', '85')}), frozenset({('province', 'California')}), 0.052197732518325005, 0.7667660208643815, 11.263518593375547)\n",
      "(frozenset({('points', '85')}), frozenset({('province', 'California'), ('country', 'US')}), 0.052197732518325005, 0.7667660208643815, 11.263518593375547)\n",
      "(frozenset({('points', '92')}), frozenset({('province', 'California')}), 0.06315469094782764, 0.7584526347852575, 9.10859336938116)\n",
      "(frozenset({('points', '92')}), frozenset({('province', 'California'), ('country', 'US')}), 0.06315469094782764, 0.7584526347852575, 9.10859336938116)\n",
      "(frozenset({('points', '86')}), frozenset({('province', 'California')}), 0.06241915438658787, 0.7414884001205182, 8.808274525926986)\n",
      "(frozenset({('points', '86')}), frozenset({('province', 'California'), ('country', 'US')}), 0.06241915438658787, 0.7414884001205182, 8.808274525926986)\n",
      "(frozenset({('points', '87')}), frozenset({('province', 'California')}), 0.09239861008953255, 0.7359595959595959, 5.861955351494745)\n",
      "(frozenset({('points', '87')}), frozenset({('province', 'California'), ('country', 'US')}), 0.09239861008953255, 0.7359595959595959, 5.861955351494745)\n",
      "(frozenset({('variety', 'Pinot Noir')}), frozenset({('province', 'California')}), 0.13896568341491872, 0.7301439232409382, 3.8362719165272483)\n",
      "(frozenset({('variety', 'Pinot Noir')}), frozenset({('province', 'California'), ('country', 'US')}), 0.13896568341491872, 0.7301439232409382, 3.8362719165272483)\n",
      "(frozenset({('country', 'US')}), frozenset({('province', 'California')}), 0.7273949324067264, 0.7273949324067264, 0.7273949324067264)\n",
      "(frozenset({('region_2', 'Napa')}), frozenset({('region_1', 'Napa Valley')}), 0.08945646384457352, 0.6873903722471254, 5.281960671718459)\n",
      "(frozenset({('region_2', 'Napa')}), frozenset({('province', 'California'), ('region_1', 'Napa Valley')}), 0.08945646384457352, 0.6873903722471254, 5.281960671718459)\n",
      "(frozenset({('region_2', 'Napa')}), frozenset({('country', 'US'), ('region_1', 'Napa Valley')}), 0.08945646384457352, 0.6873903722471254, 5.281960671718459)\n",
      "(frozenset({('country', 'US'), ('region_2', 'Napa')}), frozenset({('province', 'California'), ('region_1', 'Napa Valley')}), 0.08945646384457352, 0.6873903722471254, 5.281960671718459)\n",
      "(frozenset({('province', 'California'), ('region_2', 'Napa')}), frozenset({('country', 'US'), ('region_1', 'Napa Valley')}), 0.08945646384457352, 0.6873903722471254, 5.281960671718459)\n",
      "(frozenset({('region_2', 'Napa')}), frozenset({('province', 'California'), ('region_1', 'Napa Valley'), ('country', 'US')}), 0.08945646384457352, 0.6873903722471254, 5.281960671718459)\n",
      "(frozenset({('points', '90')}), frozenset({('province', 'California')}), 0.0756080858295077, 0.6809045226130654, 6.132028920298157)\n",
      "(frozenset({('points', '90')}), frozenset({('province', 'California'), ('country', 'US')}), 0.0756080858295077, 0.6809045226130654, 6.132028920298157)\n",
      "(frozenset({('points', '88')}), frozenset({('province', 'California')}), 0.06495548735638014, 0.6159211159211159, 5.840289042188993)\n",
      "(frozenset({('points', '88')}), frozenset({('province', 'California'), ('country', 'US')}), 0.06495548735638014, 0.6159211159211159, 5.840289042188993)\n",
      "(frozenset({('province', 'California'), ('variety', 'Cabernet Sauvignon')}), frozenset({('country', 'US'), ('region_2', 'Napa')}), 0.05881756156948284, 0.5706200787401575, 5.535885296379968)\n"
     ]
    }
   ],
   "source": [
    "# 获取强关联规则列表\n",
    "big_rules_list = association.generate_rules(freq_set, support_data)\n",
    "big_rules_list = sorted(big_rules_list, key= lambda x:x[3], reverse=True)\n",
    "print('强关联规则：')\n",
    "print('关联规则\\t\\t\\t\\t\\t\\t\\t\\t支持度，置信度，Lift')\n",
    "for i in big_rules_list:\n",
    "    print(i)"
   ]
  },
  {
   "cell_type": "markdown",
   "metadata": {},
   "source": [
    "根据挖掘到的关联规则，我们首先可以得到一些地理位置的归属。例如('province', 'Washington'),('country', 'US')这一条关联规则，说明华盛顿市属于美国，这也和我们的世界常识相符合，说明通过挖掘得到的关联规则是合理的。其他还有很多地区、省份、国家的关联规则被挖掘出来，例如Central Coast这个酒庄，通过规则我们可以确定它在美国的加利福尼亚州。通过variety这个属性相关的关联规则，我们可以发现Red Blend（血腥玛丽）和Zinfandel（木桥仙粉黛）两种酒主要产自美国。"
   ]
  },
  {
   "cell_type": "markdown",
   "metadata": {},
   "source": [
    "### 3.4 关联规则可视化"
   ]
  },
  {
   "cell_type": "markdown",
   "metadata": {},
   "source": [
    "首先将上文的关联规则转化成Pandas内置Dataframe数据结构，方便绘图"
   ]
  },
  {
   "cell_type": "code",
   "execution_count": 133,
   "metadata": {},
   "outputs": [],
   "source": [
    "import numpy as np\n",
    "import pandas as pd\n",
    "import matplotlib.pyplot as plt\n",
    "import seaborn as sns\n",
    "import scipy.stats as sci\n",
    "cmap = sns.cubehelix_palette(dark=.3, light=.8, as_cmap=True)\n",
    "\n",
    "rules = []\n",
    "for rule in big_rules_list:\n",
    "    item = []\n",
    "    begin = rule[0]\n",
    "    end = rule[1]\n",
    "    text1,text2  = '',''\n",
    "    for i in begin:\n",
    "        text1+=':'.join(list(i))+'.'\n",
    "    for i in end:\n",
    "        text2+=':'.join(list(i))+'.'\n",
    "    item.append(text1+'-->'+text2)\n",
    "    item.extend([rule[2],rule[3],int(rule[4])])\n",
    "    rules.append(item)\n",
    "rules = pd.DataFrame(rules,columns=['rule','support','confidence','lift'])"
   ]
  },
  {
   "cell_type": "code",
   "execution_count": 145,
   "metadata": {},
   "outputs": [
    {
     "data": {
      "image/png": "[encoded data removed]",
      "text/plain": [
       "<Figure size 432x288 with 1 Axes>"
      ]
     },
     "metadata": {
      "needs_background": "light"
     },
     "output_type": "display_data"
    }
   ],
   "source": [
    "import numpy as np\n",
    "import pandas as pd\n",
    "import matplotlib.pyplot as plt\n",
    "import seaborn as sns\n",
    "import scipy.stats as sci\n",
    "cmap = sns.cubehelix_palette(dark=.3, light=.8, as_cmap=True)\n",
    "ax = sns.scatterplot(x=\"support\", y=\"confidence\",hue=\"lift\", size=\"lift\",sizes=(50, 100), hue_norm=(0, 10),legend=\"full\", data=rules)"
   ]
  },
  {
   "cell_type": "markdown",
   "metadata": {},
   "source": [
    "将规则的Lift值取整数，方便进行可视化。可以看出具有价值（Lift大于3）的关联规则其置信度都较高。"
   ]
  }
 ],
 "metadata": {
  "kernelspec": {
   "display_name": "Python 3",
   "language": "python",
   "name": "python3"
  },
  "language_info": {
   "codemirror_mode": {
    "name": "ipython",
    "version": 3
   },
   "file_extension": ".py",
   "mimetype": "text/x-python",
   "name": "python",
   "nbconvert_exporter": "python",
   "pygments_lexer": "ipython3",
   "version": "3.6.7"
  }
 },
 "nbformat": 4,
 "nbformat_minor": 2
}
